{
 "cells": [
  {
   "cell_type": "markdown",
   "id": "2d390dcb-19b3-4d6c-aa73-8896cfe1a13b",
   "metadata": {},
   "source": [
    "# activity-by-hour-notes\n",
    "\n",
    "Copyright © 2024 Erik Hanson\n",
    "\n",
    "We'll want Ad Viewer activity to vary by time of day and day of week.\n",
    "\n",
    "This notebook contains some notes about ways that we get get probabilities \n",
    "for activity by hour of day. I'd like to save some of the exploration work \n",
    "in case it might be helpful later, but I'll probably only implement some \n",
    "of this in the simulation files."
   ]
  },
  {
   "cell_type": "code",
   "execution_count": 10,
   "id": "997baa85-c361-4387-b54d-7c8b9fd8560a",
   "metadata": {},
   "outputs": [],
   "source": [
    "import math\n",
    "import random\n",
    "from datetime import datetime\n",
    "import matplotlib.pyplot as plt\n",
    "from scipy.stats import rv_continuous\n",
    "from scipy.stats import beta\n",
    "import numpy as np\n",
    "import pandas as pd\n",
    "\n",
    "from typing import Union\n",
    "from typing import ClassVar\n"
   ]
  },
  {
   "cell_type": "code",
   "execution_count": 11,
   "id": "71b4ce5f-7517-45d4-a154-49608b6b9424",
   "metadata": {},
   "outputs": [],
   "source": [
    "US_POPULATION = 200_000_000\n",
    "\n",
    "SECONDS_IN_HOUR = 60 * 60\n",
    "HOURS_IN_DAY = 24\n",
    "DAYS_IN_WEEK = 7\n",
    "\n",
    "SECONDS_IN_DAY = SECONDS_IN_HOUR * HOURS_IN_DAY\n",
    "SECONDS_IN_WEEK = SECONDS_IN_DAY * DAYS_IN_WEEK\n",
    "HOURS_IN_WEEK = DAYS_IN_WEEK * HOURS_IN_DAY\n"
   ]
  },
  {
   "cell_type": "code",
   "execution_count": 12,
   "id": "e06eb86b-314f-4bfb-9af6-a14f6409aa80",
   "metadata": {},
   "outputs": [],
   "source": [
    "# We'll create beta distributions for the simulation using the mean\n",
    "# and variance ratio. We need this function to convert to the parameters\n",
    "# of the beta distribution.\n",
    "\n",
    "def beta_params_from_mean_and_variance_ratio(\n",
    "        mean: float, variance_ratio: float\n",
    "    ) -> tuple[float, float]:\n",
    "    \"\"\"\n",
    "    mean and variance_ratio between 0 and 1.\n",
    "    variance = variance_ratio * mean * (1 - mean)\n",
    "    \n",
    "    Returns the alpha and beta paramters of the specified beta distribution.\n",
    "    \"\"\"\n",
    "    if variance_ratio in (0, 1) or mean in (0, 1):\n",
    "        return 1, 1  # Should we throw an exception if mean is 0 or 1?\n",
    "    nu = (1.0 - variance_ratio) / variance_ratio\n",
    "    a = nu * mean\n",
    "    b = nu * (1.0 - mean)\n",
    "    return a, b\n"
   ]
  },
  {
   "cell_type": "markdown",
   "id": "d4446a95-5575-40cb-8317-bd16f97d8431",
   "metadata": {},
   "source": [
    "### Start with time of day\n",
    "\n",
    "We'll want activity to vary by time of day.\n",
    "Each Ad Viewer will have a period of the day when they are active.\n",
    "Periods will have a start time and a duration.\n",
    "We'll want to choose the start times and durations to get \n",
    "overall activity like we expect with general online ad consumption.\n",
    "We expect that activity will have a low in the middle of the night around\n",
    "3am Eastern time and have a peak sometime in the middle of the day.\n",
    "We'll use a sine curve and say the peak is at 3pm Eastern.\n",
    "We'll assume that most Ad Viewers are only active for a few\n",
    "hours but some could be active for much longer. We'll use a beta\n",
    "distribution to find the durations when the ad viewers are active."
   ]
  },
  {
   "cell_type": "code",
   "execution_count": 13,
   "id": "3620c8aa-c9f8-4b60-96ea-378870f96143",
   "metadata": {},
   "outputs": [],
   "source": [
    "def plot_fn(x, y, y_label=\"y\"):\n",
    "    \"\"\"\n",
    "    Plot a graph of x and y values with a label on the y axis.\n",
    "    \"\"\"\n",
    "    fig, ax = plt.subplots()\n",
    "    ax.set_xlabel('x') \n",
    "    ax.set_ylabel(y_label) \n",
    "    ax.plot(x, y) \n",
    "    ax.tick_params(axis ='y') \n",
    "    plt.show()"
   ]
  },
  {
   "cell_type": "code",
   "execution_count": null,
   "id": "51eb575f-7dfc-4f18-83d5-45981cf4dddd",
   "metadata": {},
   "outputs": [],
   "source": [
    "\n",
    "# Start distribution is like a scaled sine curve with an offset.\n",
    "# This is the ratio of the max to min probabilities of the start times.\n",
    "start_dist_top_to_bottom_ratio = 2.5\n",
    "\n",
    "# Activity will be in a period beginning with the start time.\n",
    "# Ads could be delivered with random uniform sampling during this period.\n",
    "active_duration_mean_hours = 3\n",
    "active_duration_max_hours = 15\n",
    "\n",
    "# Hour of day with the smallest expected ad probability\n",
    "min_activity_hour = 3\n",
    "\n",
    "start_dist_min_hour = min_activity_hour - active_duration_mean_hours / 2\n"
   ]
  },
  {
   "cell_type": "code",
   "execution_count": 16,
   "id": "20a57e9c-2989-459f-a56c-96a0cf65b17b",
   "metadata": {},
   "outputs": [],
   "source": [
    "\n",
    "class DailyActivityStartHourDistribution(rv_continuous):\n",
    "    \"\"\"\n",
    "    Class for the start time distribution.\n",
    "    By inheriting from rv_continuous, we can have the scipy.stats\n",
    "    package use the cdf to find random values.\n",
    "    \"\"\"\n",
    "    def __init__(self, top_to_bottom_ratio, min_hour, xtol=1e-6, seed=None):\n",
    "        super().__init__(a=0, b=24, xtol=xtol, seed=seed)\n",
    "        self.weight_fn_y_offset = 2 / (top_to_bottom_ratio - 1)\n",
    "        self.time_offset_hours = 6 + min_hour\n",
    "\n",
    "    def weight_fn(self, t):\n",
    "        \"\"\"\n",
    "        Unnormailized weights for activity period start times.\n",
    "        Times are given in hours.\n",
    "        \"\"\"\n",
    "        return self.weight_fn_y_offset + np.sin(\n",
    "            2 * math.pi * (t - self.time_offset_hours) / HOURS_IN_DAY\n",
    "        )\n",
    "\n",
    "    def cum_weight_fn(self, t):\n",
    "        \"\"\"\n",
    "        Integral of start_hour_weight_fn(t) starting from t=0 with constant=0.\n",
    "        Coded as a formula to match the formula in start_hour_weight_fn(t).\n",
    "        Used to normailize the wieghts and find the cdf.\n",
    "        \"\"\"\n",
    "        return self.weight_fn_y_offset * t \\\n",
    "            - np.cos(\n",
    "                2 * math.pi * (t - self.time_offset_hours) / HOURS_IN_DAY\n",
    "            ) / (2 * math.pi / HOURS_IN_DAY) \\\n",
    "            + np.cos(\n",
    "                2 * math.pi * (0 - self.time_offset_hours) / HOURS_IN_DAY\n",
    "            ) / (2 * math.pi / HOURS_IN_DAY)\n",
    "\n",
    "    def _pdf(self, t):\n",
    "        \"\"\"\n",
    "        Probability of a start time for the window of ad activity.\n",
    "        Time is given as an hour starting from midnight and can be fractional.\n",
    "        \"\"\"\n",
    "        start_hour_weight_auc = self.cum_weight_fn(24) \\\n",
    "            - self.cum_weight_fn(0)\n",
    "        return self.weight_fn(t) / start_hour_weight_auc\n",
    "\n",
    "    def _cdf(self, t):\n",
    "        \"\"\"\n",
    "        Cumulative probability of a start time for the window of ad activity.\n",
    "        Time is given as an hour starting from midnight and can be fractional.\n",
    "        \"\"\"\n",
    "        start_hour_weight_auc = self.cum_weight_fn(24) \\\n",
    "            - self.cum_weight_fn(0)\n",
    "        return self.cum_weight_fn(t) / start_hour_weight_auc\n",
    "\n"
   ]
  },
  {
   "cell_type": "code",
   "execution_count": null,
   "id": "a43a6b4b-b8d4-4772-8b75-ac63e1a539c0",
   "metadata": {},
   "outputs": [],
   "source": [
    "# Get distributions for the daily activity start times and durations.\n",
    "\n",
    "activity_start_dist = DailyActivityStartHourDistribution(\n",
    "    start_dist_top_to_bottom_ratio, start_dist_min_hour\n",
    ")\n",
    "\n",
    "    \n",
    "# We can use a beta distribution for the duration\n",
    "beta_mean = active_duration_mean_hours / active_duration_max_hours\n",
    "beta_var_ratio = beta_mean / 2\n",
    "a, b = beta_params_from_mean_and_variance_ratio(beta_mean, beta_var_ratio)\n",
    "\n",
    "activity_duration_dist = beta(a=a, b=b, scale=active_duration_max_hours)\n"
   ]
  },
  {
   "cell_type": "markdown",
   "id": "296c6980-cd07-44f5-afc8-b51df50fcdeb",
   "metadata": {},
   "source": [
    "### Do some checks\n",
    "\n",
    "Check some of the values to verify that they are as expected.\n"
   ]
  },
  {
   "cell_type": "code",
   "execution_count": null,
   "id": "ae32a8f9-6692-4131-80b1-4167e63603a4",
   "metadata": {},
   "outputs": [
    {
     "name": "stdout",
     "output_type": "stream",
     "text": [
      "pdf:\n",
      " [0.01279543 0.01148148 0.01068401 0.01041667 0.01068401 0.01148148\n",
      " 0.01279543 0.01460337 0.01687437 0.01956958 0.02264287 0.02604167\n",
      " 0.02970781 0.03357857 0.03758772 0.04166667 0.04574561 0.04975476\n",
      " 0.05362552 0.05729167 0.06069046 0.06376375 0.06645896 0.06872996\n",
      " 0.0705379  0.07185185 0.07264932 0.07291667 0.07264932 0.07185185\n",
      " 0.0705379  0.06872996 0.06645896 0.06376375 0.06069046 0.05729167\n",
      " 0.05362552 0.04975476 0.04574561 0.04166667 0.03758772 0.03357857\n",
      " 0.02970781 0.02604167 0.02264287 0.01956958 0.01687437 0.01460337\n",
      " 0.01279543]\n",
      "cdf:\n",
      " [0.         0.00604811 0.01156761 0.01682053 0.02207345 0.02759295\n",
      " 0.03364106 0.04047076 0.04832165 0.05741588 0.06795428 0.08011303\n",
      " 0.09404053 0.10985496 0.12764218 0.14745432 0.16930885 0.19318829\n",
      " 0.21904053 0.2467797  0.27628762 0.30741588 0.33998832 0.37380409\n",
      " 0.40864106 0.44425962 0.48040678 0.51682053 0.55323428 0.58938144\n",
      " 0.625      0.65983697 0.69365274 0.72622518 0.75735344 0.78686136\n",
      " 0.81460053 0.84045277 0.86433221 0.88618674 0.90599888 0.9237861\n",
      " 0.93960053 0.95352803 0.96568678 0.97622518 0.98531941 0.9931703\n",
      " 1.        ]\n"
     ]
    }
   ],
   "source": [
    "# Look at every half hour in the day\n",
    "\n",
    "x = np.linspace(0, 24, 48 + 1)\n",
    "\n",
    "p = activity_start_dist.pdf(x)\n",
    "c = activity_start_dist.cdf(x)\n",
    "\n",
    "print(\"pdf:\\n\", p)\n",
    "print(\"cdf:\\n\", c)\n",
    "\n"
   ]
  },
  {
   "cell_type": "code",
   "execution_count": null,
   "id": "a90f491c-0aee-4bc7-ad4b-e8da4c215595",
   "metadata": {},
   "outputs": [
    {
     "data": {
      "text/plain": [
       "(1.5, 1.5)"
      ]
     },
     "execution_count": 23,
     "metadata": {},
     "output_type": "execute_result"
    }
   ],
   "source": [
    "# Check that we have the right time for min activity\n",
    "\n",
    "x[np.argmin(p)], start_dist_min_hour"
   ]
  },
  {
   "cell_type": "code",
   "execution_count": null,
   "id": "e1d6e849-cd9e-4e3e-a24b-e79fe958c83b",
   "metadata": {},
   "outputs": [
    {
     "data": {
      "text/plain": [
       "array([-3.49604434e-04, -2.21240239e-04, -8.90905621e-05,  4.45834789e-05,\n",
       "        1.77494684e-04,  3.07368906e-04,  4.31983961e-04,  5.49207651e-04,\n",
       "        6.57034245e-04,  7.53618801e-04,  8.37308731e-04,  9.06672076e-04,\n",
       "        9.60522011e-04,  9.97937147e-04,  1.01827730e-03,  1.02119445e-03,\n",
       "        1.00663868e-03,  9.74859040e-04,  9.26399293e-04,  8.62088597e-04,\n",
       "        7.83027326e-04,  6.90568241e-04,  5.86293341e-04,  4.71986800e-04,\n",
       "        3.49604434e-04,  2.21240239e-04,  8.90905621e-05, -4.45834789e-05,\n",
       "       -1.77494684e-04, -3.07368906e-04, -4.31983961e-04, -5.49207651e-04,\n",
       "       -6.57034245e-04, -7.53618801e-04, -8.37308731e-04, -9.06672076e-04,\n",
       "       -9.60522011e-04, -9.97937147e-04, -1.01827730e-03, -1.02119445e-03,\n",
       "       -1.00663868e-03, -9.74859040e-04, -9.26399293e-04, -8.62088597e-04,\n",
       "       -7.83027326e-04, -6.90568241e-04, -5.86293341e-04, -4.71986800e-04])"
      ]
     },
     "execution_count": 24,
     "metadata": {},
     "output_type": "execute_result"
    }
   ],
   "source": [
    "# Check that the half-hour differences in the cdf are close to the \n",
    "# scaled pdf values. (Divide by 2 because there are 2 samples / hour.)\n",
    "\n",
    "c[1:] - c[:-1] - p[:-1] / 2"
   ]
  },
  {
   "cell_type": "markdown",
   "id": "f3b1ea64-fda2-42f5-a711-1310c3ec4aae",
   "metadata": {},
   "source": [
    "### Compare 2 methods to get samples from the distribution\n",
    "\n",
    "1. Use the distribution class `rvs()` method.\n",
    "\n",
    "2. Use `random.choices()`."
   ]
  },
  {
   "cell_type": "code",
   "execution_count": 28,
   "id": "60916633-a1cb-4e22-b0d9-0f6d09493f1d",
   "metadata": {},
   "outputs": [
    {
     "name": "stdout",
     "output_type": "stream",
     "text": [
      "2024-01-25 08:27:53.814578\n"
     ]
    }
   ],
   "source": [
    "print(datetime.now())"
   ]
  },
  {
   "cell_type": "code",
   "execution_count": 30,
   "id": "d8e93d3c-307c-4ac6-bb59-27462a186579",
   "metadata": {},
   "outputs": [
    {
     "name": "stdout",
     "output_type": "stream",
     "text": [
      "2024-01-25 08:29:39.758154  Starting first sample\n",
      "2024-01-25 08:30:57.925533  Starting second sample\n",
      "2024-01-25 08:32:17.416154  Done\n"
     ]
    }
   ],
   "source": [
    "# Get some sample counts to check the distribution\n",
    "\n",
    "sample_count = 100_000\n",
    "\n",
    "print(f\"{datetime.now()}  Starting first sample\")\n",
    "\n",
    "samples_1 = activity_start_dist.rvs(size=sample_count)\n",
    "\n",
    "print(f\"{datetime.now()}  Starting second sample\")\n",
    "\n",
    "samples_2 = activity_start_dist.rvs(size=sample_count)\n",
    "\n",
    "print(f\"{datetime.now()}  Done\")\n"
   ]
  },
  {
   "cell_type": "markdown",
   "id": "79158c6e-3cec-4d96-a172-959ff21b014b",
   "metadata": {},
   "source": [
    "So the time for 100K samples is around 80 seconds.\n"
   ]
  },
  {
   "cell_type": "code",
   "execution_count": 34,
   "id": "3fd3e974-dba0-4fa8-b1e8-dc7ac5699699",
   "metadata": {},
   "outputs": [
    {
     "data": {
      "text/plain": [
       "array([23.99861111, 23.99888889, 23.99916667, 23.99944444, 23.99972222])"
      ]
     },
     "execution_count": 34,
     "metadata": {},
     "output_type": "execute_result"
    }
   ],
   "source": [
    "# We really only need 1-second accuracy,\n",
    "# Try just choosing integer values\n",
    "\n",
    "time_in_seconds = np.linspace(0, SECONDS_IN_DAY, SECONDS_IN_DAY,\n",
    "                              endpoint=False).astype(np.int32)\n",
    "\n",
    "time_in_seconds[-5:] / SECONDS_IN_HOUR\n"
   ]
  },
  {
   "cell_type": "code",
   "execution_count": 46,
   "id": "1f53e0e9-f5d8-467e-8cc3-1ba84770cfdd",
   "metadata": {},
   "outputs": [
    {
     "data": {
      "text/plain": [
       "array([86395, 86396, 86397, 86398, 86399])"
      ]
     },
     "execution_count": 46,
     "metadata": {},
     "output_type": "execute_result"
    }
   ],
   "source": [
    "time_in_seconds[-5:]"
   ]
  },
  {
   "cell_type": "code",
   "execution_count": 35,
   "id": "6c4114f5-8c76-473c-ae07-b9721eaaf6b5",
   "metadata": {},
   "outputs": [
    {
     "name": "stdout",
     "output_type": "stream",
     "text": [
      "2024-01-25 12:58:46.860202  Starting first sample\n",
      "2024-01-25 12:58:46.968633  Starting second sample\n",
      "2024-01-25 12:58:47.062050  Done\n"
     ]
    }
   ],
   "source": [
    "\n",
    "cum_weights = activity_start_dist.cdf(\n",
    "    (time_in_seconds + 1) / SECONDS_IN_HOUR\n",
    ")\n",
    "\n",
    "\n",
    "print(f\"{datetime.now()}  Starting first sample\")\n",
    "\n",
    "samples_1b = random.choices(time_in_seconds, cum_weights=cum_weights,\n",
    "                             k=sample_count)\n",
    "\n",
    "print(f\"{datetime.now()}  Starting second sample\")\n",
    "\n",
    "samples_2b = random.choices(time_in_seconds, cum_weights=cum_weights,\n",
    "                             k=sample_count)\n",
    "\n",
    "print(f\"{datetime.now()}  Done\")\n"
   ]
  },
  {
   "cell_type": "code",
   "execution_count": 36,
   "id": "0f48b39b-d0ac-4de3-949f-bc322137bd9f",
   "metadata": {},
   "outputs": [
    {
     "data": {
      "text/plain": [
       "[29148, 47805, 13692, 66067, 77550, 48683, 48391, 31144, 36556, 33714]"
      ]
     },
     "execution_count": 36,
     "metadata": {},
     "output_type": "execute_result"
    }
   ],
   "source": [
    "samples_2b[:10]"
   ]
  },
  {
   "cell_type": "markdown",
   "id": "a55ad427-8abb-40ab-9250-d9f91802908d",
   "metadata": {},
   "source": [
    "It seems that the `random.choices()` is much better if we just need to\n",
    "choose seconds in a day. We could try adjusting the xtol setting in the \n",
    "distribution to imrpove performance, but random.choices seems ideal for \n",
    "the case of choosing seconds when we have the cdf."
   ]
  },
  {
   "cell_type": "markdown",
   "id": "c7aee60c-6ae2-4a68-9d85-840e0aa625d3",
   "metadata": {},
   "source": [
    "## Day of Week Variations\n",
    "\n",
    "We may want to periods of activity to be different on different days\n",
    "of the week. We'll also want some days to have more activity than others.\n",
    "If we do each day independently, we'll get some large changes in the \n",
    "probablilities from one day to the next. So we'll want to \"blend\" the \n",
    "distributions from different days to get smoother changes from \n",
    "day-to-day.\n",
    "\n",
    "We'll allow different distributions on each day of the week and different \n",
    "weights for the total activity on each day of the week. We'll use a \n",
    "linear combination of the distributions from both days to \"blend\" \n",
    "the distributions in the hours before and after the date boundries.\n",
    "\n",
    "We'll have weeks start with Monday to match the ISO-8601 standard, but \n",
    "we'll assume hour of day is in a local time for the simulations."
   ]
  },
  {
   "cell_type": "code",
   "execution_count": 17,
   "id": "66385bb7-f39b-4186-bd29-f5e1ed1c4e4f",
   "metadata": {},
   "outputs": [],
   "source": [
    "# Define the distributions that we want on each day of the week along witt \n",
    "# the relative weight fo each day of the week.  Weeks start on Monday.\n",
    "\n",
    "weekly_activity_parameters = {\n",
    "    \"max_to_min_ratio\" : [2.5] * 5 + [3] * 2,\n",
    "    \"min_activity_hour\" : [3] * 5 + [4] * 2,\n",
    "    \"active_duration_mean_hours\" : [3] * 7,\n",
    "    \"active_duration_var_ratio\" : [0.1] * 5 + [0.15] * 2,\n",
    "    \"active_duration_max_hours\" : [15] * 5 + [12] * 2,\n",
    "    \"daily_activity_weight\" : [1, 1.2, 1.3, 1.1, 0.9, 0.7, 0.5],\n",
    "}\n",
    "\n",
    "# Calculate the min hour for the distribution of activity start times.\n",
    "weekly_activity_parameters[\"min_start_hour\"] = [\n",
    "    6 + min_activity_hour - duration_mean_hours / 2\n",
    "    for min_activity_hour, duration_mean_hours in zip(\n",
    "        weekly_activity_parameters[\"min_activity_hour\"],\n",
    "        weekly_activity_parameters[\"active_duration_mean_hours\"]\n",
    "    )\n",
    "]\n",
    "\n",
    "# The total hours (before and after day changes) when we blend distributions.\n",
    "daily_activity_blend_hours = 6\n"
   ]
  },
  {
   "cell_type": "code",
   "execution_count": 18,
   "id": "271fb6ba-495b-40b9-9396-2e68cae4119c",
   "metadata": {},
   "outputs": [
    {
     "data": {
      "text/plain": [
       "{'max_to_min_ratio': [2.5, 2.5, 2.5, 2.5, 2.5, 3, 3],\n",
       " 'min_activity_hour': [3, 3, 3, 3, 3, 4, 4],\n",
       " 'active_duration_mean_hours': [3, 3, 3, 3, 3, 3, 3],\n",
       " 'active_duration_var_ratio': [0.1, 0.1, 0.1, 0.1, 0.1, 0.15, 0.15],\n",
       " 'active_duration_max_hours': [15, 15, 15, 15, 15, 12, 12],\n",
       " 'daily_activity_weight': [1, 1.2, 1.3, 1.1, 0.9, 0.7, 0.5],\n",
       " 'min_start_hour': [7.5, 7.5, 7.5, 7.5, 7.5, 8.5, 8.5]}"
      ]
     },
     "execution_count": 18,
     "metadata": {},
     "output_type": "execute_result"
    }
   ],
   "source": [
    "weekly_activity_parameters"
   ]
  },
  {
   "cell_type": "markdown",
   "id": "a96b6571-666c-440d-b281-9c95450302d6",
   "metadata": {},
   "source": [
    "We'll probably put this into a class.\n",
    "Blending activity start times is each because we just need an array\n",
    "with probablilities for each second of the week.\n",
    "Blending the durations is trickier...\n",
    "\n",
    "Start with the start times.  Do this:\n",
    "\n",
    "1. Find the probabilities by second for each day.\n",
    "\n",
    "1. weight by the daily weights.\n",
    "\n",
    "1. Blend by day boundries.\n",
    "\n",
    "1. Normailze to get second-of-week cdf.\n"
   ]
  },
  {
   "cell_type": "code",
   "execution_count": 19,
   "id": "ec868806-b407-4acb-bdb4-304ddfe37110",
   "metadata": {},
   "outputs": [
    {
     "data": {
      "text/plain": [
       "array([86398, 86399, 86400])"
      ]
     },
     "execution_count": 19,
     "metadata": {},
     "output_type": "execute_result"
    }
   ],
   "source": [
    "seconds_in_day_with_end = np.linspace(\n",
    "    0, SECONDS_IN_DAY, SECONDS_IN_DAY + 1, endpoint=True\n",
    ").astype(np.int32)\n",
    "\n",
    "seconds_in_day_with_end[-3:]"
   ]
  },
  {
   "cell_type": "code",
   "execution_count": 20,
   "id": "39f57bac-d338-47f7-b6b0-074221f7127b",
   "metadata": {},
   "outputs": [],
   "source": [
    "# Find the probabilities by second for each day of the week\n",
    "\n",
    "daily_start_second_probs = []\n",
    "\n",
    "for i_day in range(7):\n",
    "    activity_start_dist = DailyActivityStartHourDistribution(\n",
    "        weekly_activity_parameters[\"max_to_min_ratio\"][i_day],\n",
    "        weekly_activity_parameters[\"min_start_hour\"][i_day]\n",
    "    )\n",
    "    \n",
    "    second_in_day_probs = activity_start_dist.cdf(\n",
    "        (seconds_in_day_with_end[1:]) / SECONDS_IN_HOUR\n",
    "    ) - activity_start_dist.cdf(\n",
    "        (seconds_in_day_with_end[:-1]) / SECONDS_IN_HOUR\n",
    "    )\n",
    "\n",
    "    daily_start_second_probs.append(second_in_day_probs)"
   ]
  },
  {
   "cell_type": "code",
   "execution_count": 21,
   "id": "f66b1564-fd54-4d54-a140-8834a604bfb0",
   "metadata": {},
   "outputs": [
    {
     "data": {
      "text/plain": [
       "array([1.48956873e-05, 1.48951040e-05, 1.48945208e-05, 1.48939375e-05,\n",
       "       1.48933542e-05, 1.48927709e-05, 1.48921876e-05, 1.48916043e-05,\n",
       "       1.48910209e-05, 1.48904375e-05])"
      ]
     },
     "execution_count": 21,
     "metadata": {},
     "output_type": "execute_result"
    }
   ],
   "source": [
    "daily_start_second_probs[0][:10]"
   ]
  },
  {
   "cell_type": "code",
   "execution_count": 22,
   "id": "f9e662f0-eb80-4043-baf2-f5128d44d76b",
   "metadata": {},
   "outputs": [
    {
     "data": {
      "text/plain": [
       "array([1.86195901e-05, 1.86189223e-05, 1.86182544e-05, 1.86175866e-05,\n",
       "       1.86169187e-05, 1.86162507e-05, 1.86155827e-05, 1.86149147e-05,\n",
       "       1.86142467e-05, 1.86135786e-05])"
      ]
     },
     "execution_count": 22,
     "metadata": {},
     "output_type": "execute_result"
    }
   ],
   "source": [
    "second_in_day_probs[:10]"
   ]
  },
  {
   "cell_type": "code",
   "execution_count": 23,
   "id": "4b4e09fe-993d-4384-a62b-c5a5d953eafe",
   "metadata": {},
   "outputs": [
    {
     "data": {
      "text/plain": [
       "(array([1.48986032e-05, 1.48980200e-05, 1.48974369e-05, 1.48968537e-05,\n",
       "        1.48962705e-05]),\n",
       " array([1.86195901e-05, 1.86189223e-05, 1.86182544e-05, 1.86175866e-05,\n",
       "        1.86169187e-05]))"
      ]
     },
     "execution_count": 23,
     "metadata": {},
     "output_type": "execute_result"
    }
   ],
   "source": [
    "# There's a jump at midnight when we change the daily start distributions\n",
    "\n",
    "daily_start_second_probs[4][-5:], daily_start_second_probs[5][:5]"
   ]
  },
  {
   "cell_type": "code",
   "execution_count": 24,
   "id": "5bf9b8f9-403e-4054-8047-1981af934d34",
   "metadata": {},
   "outputs": [
    {
     "data": {
      "image/png": "[encoded data removed]",
      "text/plain": [
       "<Figure size 640x480 with 1 Axes>"
      ]
     },
     "metadata": {},
     "output_type": "display_data"
    }
   ],
   "source": [
    "# We can do a plot to show this\n",
    "\n",
    "seconds_in_day_no_end = seconds_in_day_with_end[:-1]\n",
    "\n",
    "x = np.append(\n",
    "    seconds_in_day_no_end,\n",
    "    (seconds_in_day_no_end + SECONDS_IN_DAY)\n",
    ") / SECONDS_IN_HOUR\n",
    "\n",
    "y = np.append(daily_start_second_probs[4], daily_start_second_probs[5])\n",
    "\n",
    "\n",
    "plot_fn(x,y)\n"
   ]
  },
  {
   "cell_type": "code",
   "execution_count": 28,
   "id": "5819b240-7389-4ab6-8193-617262e9317d",
   "metadata": {},
   "outputs": [
    {
     "data": {
      "image/png": "[encoded data removed]",
      "text/plain": [
       "<Figure size 640x480 with 1 Axes>"
      ]
     },
     "metadata": {},
     "output_type": "display_data"
    }
   ],
   "source": [
    "# Do a more detailed plot to show this\n",
    "\n",
    "n_seconds_around_day_end = 1800 * 3\n",
    "\n",
    "x2 = [n/60 for n in range(-n_seconds_around_day_end, n_seconds_around_day_end)]\n",
    "y2 = y[\n",
    "    SECONDS_IN_DAY-n_seconds_around_day_end\n",
    "    : SECONDS_IN_DAY+n_seconds_around_day_end\n",
    "]\n",
    "\n",
    "\n",
    "plot_fn(x2, y2)\n"
   ]
  },
  {
   "cell_type": "markdown",
   "id": "487e928d-bc26-4765-a995-938ca7c5841a",
   "metadata": {},
   "source": [
    "## Blending and scaling notes\n",
    "\n",
    "We'll want to do two types of probabilitiy adjustments:\n",
    "\n",
    "1. Blend to match probabilities. Blend the probabilities at the start \n",
    "of the day with probabilities at the start of the previous day and \n",
    "belnd probabilities at the end of the day with probabilities at the \n",
    "end of the next day to get smooth probability transitions from day \n",
    "to day.\n",
    "\n",
    "2. Scale probabilities to match activity. Scale the probabilities at \n",
    "the start and end of the day to adjust for expected activity changes \n",
    "from day to day. This should help avoid big changes in activity from \n",
    "day to day.\n",
    "\n",
    "In each of these cases, we change the probabilities at the start and \n",
    "end of the day. If the modified probability values do not sum to 1, we \n",
    "need to renormailze the modified values and we'll get different \n",
    "probabilities than we want. So we need to take the renormailzation \n",
    "into account when we adjust the probabilities.\n",
    "\n",
    "### Scaling to avoid renormalization\n",
    "\n",
    "Let's say that our starting probabilities $p_i$ are indexed from \n",
    "$1$ to $n$, where $n$ is the number of seconds in the day, and we're \n",
    "adding adjustments $q_i$ with $i$ from $1$ to $m$ at the start of \n",
    "the day and adjustments $q_i$ with $i$ from $n-m+1$ to $n$ at the end \n",
    "of the day.\n",
    "\n",
    "Then the change with the adjustments at the start of the day is\n",
    "\n",
    "$k_1 = \\sum_{i=1}^k q_i$\n",
    "\n",
    "and the change with the adjustments at the end of the day is \n",
    "\n",
    "$k_2 = \\sum_{i=n-m+1}^n q_i$\n",
    "\n",
    "If $k_1 + k_2 = 0$, no renormalization will be needed. If one of $k_1$ \n",
    "and $k_2$ zero and the other is non-zero, we can add a linear offset \n",
    "to the set of adjustments with the non-zero sum to get a new adjustment \n",
    "with zero sum so that we do not need to renormalize. If both \n",
    "$k_1$ and $k_2$ are non-zero and their sum is not zero, we could\n",
    "add linear offsets to both sets of adjustments, \n",
    "but it may be better to adjust all the probabilities since probabilities \n",
    "at both the start and end of the day will change with renormalization.\n",
    "\n",
    "If we want the probability at the start of the day to be $p_1 + q_1$\n",
    "after applying scaled adjustments and renormalizing, and we want the \n",
    "probability at the end of the day to be $p_n + q_n$\n",
    "after applying scaled adjustments and renormalizing,\n",
    "then we can use the following equations to find the scale factors.\n",
    "\n",
    "Let $r_1 = q_1 / p_1$ and $r_2 = q_n / p_n$ and $s_1$ and $s_2$ be scale \n",
    "factors applied to the adjustments $q_i$. Then\n",
    "\n",
    "$1 + r_1 = (1 + s_1 r_1) \\, / \\, (1 + s_1 k_1 + s_2 k_2)$\n",
    "\n",
    "and \n",
    "\n",
    "$1 + r_2 = (1 + s_2 r_2) \\, / \\, (1 + s_1 k_1 + s_2 k_2)$\n",
    "\n",
    "We can use the first equation to get $s_1$ in terms of $s_2$.\n",
    "\n",
    "$(1 + s_1 k_1 + s_2 k_2) (1 + r_1) = 1 + s_1 r_1$\n",
    "\n",
    "$1 + s_1 k_1 + s_2 k_2 + r_1 + r_1 s_1 k_1 + r_1 s_2 k_2  = 1 + s_1 r_1$\n",
    "\n",
    "$s_1 k_1 - s_1 r_1 + r_1 s_1 k_1 = - (r_1 + s_2 k_2 + r_1 s_2 k_2)$\n",
    "\n",
    "$(k_1 - r_1 + r_1 k_1) s_1 = - (r_1 + (k_2 + r_1 k_2) s_2)$\n",
    "\n",
    "$(r_1 - k_1 - r_1 k_1) s_1 = r_1 + (k_2 + r_1 k_2) s_2$\n",
    "\n",
    "$s_1 = (r_1 + (k_2 + r_1 k_2) s_2) \\, / \\, (r_1 - k_1 - r_1 k_1)$\n",
    "\n",
    "We can combine the two equations to solve for $s_2$ in terms of $s_1$ and then substitute the equation above to solve for $s_2$.\n",
    "\n",
    "$(1 + s_2 r_2) \\, / \\, (1 + r_2) = (1 + s_1 r_1) \\, / \\, (1 + r_1)$\n",
    "\n",
    "$(1 + r_1) (1 + s_2 r_2) = (1 + r_2) (1 + s_1 r_1)$\n",
    "\n",
    "$1 + r_1 + (1 + r_1) r_2 s_2 = 1 + r_2 + r_1 (1 + r_2) s_1$\n",
    "\n",
    "$(1 + r_1) r_2 s_2 = (r_2 - r_1) + r_1 (1 + r_2) s_1$\n",
    "\n",
    "$(1 + r_1) r_2 s_2 = (r_2 - r_1) \n",
    "+ r_1 (1 + r_2) (r_1 + (k_2 + r_1 k_2) s_2) \\, / \\, (r_1 - k_1 - r_1 k_1)$\n",
    "\n",
    "$(r_1 - k_1 - r_1 k_1) (1 + r_1) r_2 s_2\n",
    "= (r_2 - r_1) (r_1 - k_1 - r_1 k_1)\n",
    "+ r_1^2 (1 + r_2)\n",
    "+ k_2 r_1 (1 + r_2) (1 + r_1) s_2)$\n",
    "\n",
    "$((r_1 - k_1 - r_1 k_1) (1 + r_1) r_2 - k_2 r_1 (1 + r_2) (1 + r_1)) s_2\n",
    "= r_1 r_2 - k_1 r_2 - k_1 r_1 r_2 - r_1^2 + k_1 r_1 + k_1 r_1^2\n",
    "+ r_1^2 + r_1^2 r_2$\n",
    "\n",
    "$(1 + r_1) ((r_1 - k_1 - r_1 k_1) r_2 - k_2 r_1 (1 + r_2)) s_2\n",
    "= (1 + r_1) (r_1 r_2 + k_1 (r_1 - r_2))$\n",
    "\n",
    "$(r_1 r_2 - k_1 r_2 - k_1 r_1 r_2 - k_2 r_1 - k_2 r_1 r_2) s_2\n",
    "= (r_1 r_2 + k_1 (r_1 - r_2))$\n",
    "\n",
    "$(r_1 r_2 - k_1 r_2 (1 + r_1) - k_2 r_1 (1 + r_2)) s_2\n",
    "= (r_1 r_2 + k_1 (r_1 - r_2))$\n",
    "\n",
    "$s_2 = (r_1 r_2 + k_1 (r_1 - r_2)) \\, / \\, (r_1 r_2 - k_1 r_2 (1 + r_1) - k_2 r_1 (1 + r_2))$\n",
    "\n"
   ]
  },
  {
   "cell_type": "code",
   "execution_count": 5,
   "id": "33d09ca7-6a19-48a7-a1a9-32b693e80a61",
   "metadata": {},
   "outputs": [
    {
     "name": "stdout",
     "output_type": "stream",
     "text": [
      "s_1 = 9.25 s_2 = 10.187499999999998\n",
      "r_1 = 1.4 new_r_1 = 1.4\n",
      "r_2 = 1.1 new_r_2 = 1.0999999999999996\n"
     ]
    }
   ],
   "source": [
    "# Test the formulae\n",
    "\n",
    "r_1 = 1.4\n",
    "r_2 = 1.1\n",
    "\n",
    "k_1 = 0.3\n",
    "k_2 = 0.2\n",
    "\n",
    "s_2 = (r_1 * r_2 + k_1 * (r_1 - r_2)) / (r_1 * r_2 - k_1 * r_2 * (1 + r_1) - k_2 * r_1 * (1 + r_2))\n",
    "\n",
    "s_1 = (r_1 + (k_2 + r_1 * k_2) * s_2) / (r_1 - k_1 - r_1 * k_1)\n",
    "\n",
    "norm = 1 + s_1 * k_1 + s_2 * k_2\n",
    "\n",
    "new_r_1 = (1 + s_1 * r_1) / norm - 1\n",
    "\n",
    "new_r_2 = (1 + s_2 * r_2) / norm - 1\n",
    "\n",
    "print(f\"s_1 = {s_1} s_2 = {s_2}\")\n",
    "print(f\"r_1 = {r_1} new_r_1 = {new_r_1}\")\n",
    "print(f\"r_2 = {r_2} new_r_2 = {new_r_2}\")\n",
    "\n",
    "\n"
   ]
  },
  {
   "cell_type": "code",
   "execution_count": null,
   "id": "b2d6f9bb-1e23-4438-97ff-9c8a53ea2ac2",
   "metadata": {},
   "outputs": [],
   "source": []
  },
  {
   "cell_type": "code",
   "execution_count": null,
   "id": "204f1747-0546-44f2-b812-1dd23e4ea8d6",
   "metadata": {},
   "outputs": [],
   "source": []
  },
  {
   "cell_type": "code",
   "execution_count": null,
   "id": "238fae8d-23e8-4ecc-b945-1c692fceb4a1",
   "metadata": {},
   "outputs": [],
   "source": []
  },
  {
   "cell_type": "code",
   "execution_count": null,
   "id": "bbf45c45-a9dd-4645-8555-02f36914b7b4",
   "metadata": {},
   "outputs": [],
   "source": []
  },
  {
   "cell_type": "code",
   "execution_count": null,
   "id": "e1642805-6049-43ae-a3bd-b30be906f63d",
   "metadata": {},
   "outputs": [],
   "source": []
  },
  {
   "cell_type": "code",
   "execution_count": null,
   "id": "d32c6352-853e-42a0-b25c-83925736ac70",
   "metadata": {},
   "outputs": [],
   "source": []
  },
  {
   "cell_type": "code",
   "execution_count": null,
   "id": "69f4b9a8-1446-4b10-b1f5-de0edcbfa8d9",
   "metadata": {},
   "outputs": [],
   "source": []
  },
  {
   "cell_type": "code",
   "execution_count": null,
   "id": "7a078d35-cedd-4c2d-a115-e5555ab68059",
   "metadata": {},
   "outputs": [],
   "source": []
  }
 ],
 "metadata": {
  "kernelspec": {
   "display_name": "Python 3 (ipykernel)",
   "language": "python",
   "name": "python3"
  },
  "language_info": {
   "codemirror_mode": {
    "name": "ipython",
    "version": 3
   },
   "file_extension": ".py",
   "mimetype": "text/x-python",
   "name": "python",
   "nbconvert_exporter": "python",
   "pygments_lexer": "ipython3",
   "version": "3.10.9"
  }
 },
 "nbformat": 4,
 "nbformat_minor": 5
}
