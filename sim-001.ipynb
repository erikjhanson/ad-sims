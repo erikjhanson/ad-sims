{
 "cells": [
  {
   "cell_type": "markdown",
   "id": "e1e3008d-2460-4da2-ba63-cda62a771cfa",
   "metadata": {},
   "source": [
    "# sim-1\n",
    "\n",
    "First simulation. Something basic to get started.\n",
    "\n",
    "This is about programmatic display ads.\n",
    "The main focus is on variable ad impact. The impact of each ad will vary.\n",
    "If there is enough impact, there is a chance of a purchase.\n",
    "We won't start with variations in activity by hour of day or by user,\n",
    "and assume that each user has an equal chance of receiving each ad."
   ]
  },
  {
   "cell_type": "markdown",
   "id": "0ec3f13d-fcd1-4a9f-82ab-bc92571f785d",
   "metadata": {},
   "source": [
    "## Notes about Programmatic Display simulations\n",
    "\n",
    "- There are about 200M adults in the US between 18 and 65.\n",
    "We assume that all ads are going to this group and that almost all\n",
    "of this group is active online.\n",
    "\n",
    "- We'll use a sample of the population for simulations. For example,\n",
    "a 1% sample would be about 2M people which would be similar to a \n",
    "large market area.\n",
    "\n",
    "- We'll use an \"addressable Market\" % in some simulations to \n",
    "reduce the sample size further. We'll assume that ads get proportionally \n",
    "split between the addressable market and the rest of the population but \n",
    "purchases will only be made by users in the addressable market.\n",
    "\n",
    "- Ad budgets with sonstant CPM and limited targeting are often between\n",
    "\\\\$1 and \\\\$5 CPM with total budgets from \\\\$10K to \\\\$1M or more per month. \n",
    "This roughly translates to between 0.01 and 2.0 ad per user in a month,\n",
    "or 0.0025 to 0.5 ad per user per week.\n",
    "If simulations have a fixed budget and CPM, we can specify the number of \n",
    "ad impressions as a proportion of the total number of users.\n",
    "\n"
   ]
  },
  {
   "cell_type": "code",
   "execution_count": 1,
   "id": "015a5b19-15b0-452d-9a57-70e71b200789",
   "metadata": {},
   "outputs": [
    {
     "name": "stdout",
     "output_type": "stream",
     "text": [
      "200000\n"
     ]
    }
   ],
   "source": [
    "# Constants for detrmine the number of users\n",
    "\n",
    "US_POPULATION = 200_000_000\n",
    "\n",
    "MARKET_PROPORTION = 0.01\n",
    "MARKET_SIZE = round(US_POPULATION * MARKET_PROPORTION)\n",
    "\n",
    "ADDRESSABLE_PROPORTION = 0.1\n",
    "ADDRESSABLE_SIZE = round(MARKET_SIZE * ADDRESSABLE_PROPORTION)\n",
    "\n",
    "SIMULATION_USER_COUNT = ADDRESSABLE_SIZE\n",
    "\n",
    "print(SIMULATION_USER_COUNT)"
   ]
  },
  {
   "cell_type": "markdown",
   "id": "c4189595-1a6e-4ca1-8df7-8f758312caa0",
   "metadata": {},
   "source": [
    "### Ad impact\n",
    "\n",
    "In this simulation, we'll have the \"impact\" of each ad vary randomly \n",
    "with a mean impact of 0.2 and all impact values between 0 and 1. \n",
    "Ad impact will decay over time. When the total impact for a user reaches \n",
    "a level specific to the user, we'll say that the user makes a purchase.\n"
   ]
  },
  {
   "cell_type": "code",
   "execution_count": 2,
   "id": "13985789-a312-40d7-88e2-85e03ba96c5d",
   "metadata": {},
   "outputs": [],
   "source": [
    "from scipy.stats import beta\n",
    "import numpy as np\n"
   ]
  },
  {
   "cell_type": "code",
   "execution_count": 3,
   "id": "eb8a2748-7b99-4ffa-ad95-173a1368337b",
   "metadata": {},
   "outputs": [],
   "source": [
    "HOURS_IN_DAY = 24\n",
    "DAYS_IN_WEEK = 24\n",
    "HOURS_IN_WEEK = DAYS_IN_WEEK * HOURS_IN_DAY\n",
    "\n",
    "DAILY_IMPACT_DECAY = 0.9\n",
    "HOURLY_IMPACT_DECAY = DAILY_IMPACT_DECAY ** (1.0 / HOURS_IN_DAY)\n",
    "\n",
    "def week_hour_diff(first_week, first_hour, second_week, second_hour):\n",
    "    \"\"\"\n",
    "    Find the number of hours between two week-hour tuples.\n",
    "    Assume that the first week-hour is not after the second week-hour.\n",
    "    \"\"\"\n",
    "    return (second_week - first_week) * HOURS_IN_WEEK \\\n",
    "        + (second_hour - first_hour)\n",
    "\n",
    "class AdViewer:\n",
    "    \"\"\"\n",
    "    Object representing a person who views ads.\n",
    "    \"\"\"\n",
    "    \n",
    "    def __init__(self, purchase_impact_thrshold):\n",
    "        self.purchase_impact_thrshold = purchase_impact_thrshold\n",
    "        self.last_ad_week_hour = None\n",
    "        self.ad_view_count = 0\n",
    "        self.ad_impact = 0\n",
    "        self.last_purchase_week_hour = None\n",
    "        self.purchase_count = 0\n",
    "        \n",
    "    def view_ad(self, week, hour, impact):\n",
    "        if self.last_ad_week_hour is None:\n",
    "            self.ad_impact = impact\n",
    "        else:\n",
    "            last_week, last_hour = self.last_ad_week_hour \n",
    "            hours_since_last = week_hour_diff(last_week, last_hour, \n",
    "                                              week, hour)\n",
    "            self.ad_impact = impact \\\n",
    "                + self.ad_impact * HOURLY_IMPACT_DECAY ** hours_since_last\n",
    "\n",
    "        self.last_ad_week_hour = week, hour\n",
    "        self.ad_view_count += 1\n",
    "\n",
    "        if (self.ad_impact >= self.purchase_impact_thrshold\n",
    "                and self.purchase_count == 0):\n",
    "            self.last_purchase_week_hour = week, hour\n",
    "            self.purchase_count += 1"
   ]
  },
  {
   "cell_type": "code",
   "execution_count": 4,
   "id": "6bdf03b5-cfef-49a7-bec7-ce358805b45d",
   "metadata": {},
   "outputs": [],
   "source": [
    "# We'll create beta distributions for the simulation using the mean\n",
    "# and variance ratio. We need this function to convert to the parameters\n",
    "# of the beta distribution.\n",
    "\n",
    "def beta_params_from_mean_and_variance_ratio(mean, variance_ratio):\n",
    "    \"\"\"\n",
    "    mean and variance_ratio between 0 and 1.\n",
    "    variance = variance_ratio * mean * (1 - mean)\n",
    "    \n",
    "    Returns the alpha and beta paramters of the specified beta distribution.\n",
    "    \"\"\"\n",
    "    if variance_ratio in (0, 1) or mean in (0, 1):\n",
    "        return 1, 1  # Should we throw an exception if mean is 0 or 1?\n",
    "    nu = (1.0 - variance_ratio) / variance_ratio\n",
    "    a = nu * mean\n",
    "    b = nu * (1.0 - mean)\n",
    "    return a, b\n"
   ]
  },
  {
   "cell_type": "code",
   "execution_count": 5,
   "id": "d5ceaebc-b6a3-4b12-847a-295ad62af1e7",
   "metadata": {},
   "outputs": [],
   "source": [
    "# settings for the distributions used in the simulation\n",
    "ad_impact_mean, ad_impact_var_ratio = 0.1, 0.05\n",
    "ad_impact_threshold_mean, ad_impact_threshold_var_ratio = 0.8, 0.1\n"
   ]
  },
  {
   "cell_type": "code",
   "execution_count": 6,
   "id": "d0f230d5-8ab0-4f4d-86a3-0459fe16471f",
   "metadata": {},
   "outputs": [],
   "source": [
    "# Helper functions to get samples from the distributions.\n",
    "# (We can easily change the distributions by changing these functions.)\n",
    "\n",
    "def get_ad_impact_thresholds(user_count):\n",
    "    \"\"\"\n",
    "    Get a list of ad impacts sampled from the appropriate\n",
    "    distribution for use in a simulation.\n",
    "    \"\"\"\n",
    "    a, b = beta_params_from_mean_and_variance_ratio(\n",
    "        ad_impact_threshold_mean, ad_impact_threshold_var_ratio\n",
    "    )\n",
    "    return beta.rvs(a, b, size=user_count)\n",
    "\n",
    "def get_ad_impacts(ad_count):\n",
    "    \"\"\"\n",
    "    Get a list of ad impacts sampled from the appropriate\n",
    "    distribution for use in a simulation.\n",
    "    \"\"\"\n",
    "    a, b = beta_params_from_mean_and_variance_ratio(\n",
    "        ad_impact_mean, ad_impact_var_ratio\n",
    "    )\n",
    "    return beta.rvs(a, b, size=ad_count)\n",
    "\n",
    "def get_ad_viewers(user_count):\n",
    "    \"\"\"\n",
    "    Get a list of AdViewer objects for use in a simulation.\n",
    "    \"\"\"\n",
    "    ad_impact_thresholds = get_ad_impact_thresholds(user_count)\n",
    "    return [AdViewer(t) for t in ad_impact_thresholds]\n"
   ]
  },
  {
   "cell_type": "code",
   "execution_count": 7,
   "id": "6861393f-cac9-4682-ad04-3aff5706fcca",
   "metadata": {},
   "outputs": [],
   "source": [
    "# Find the weekly ad counts using the ratio of ad coutn to user count.\n",
    "\n",
    "WEEKLY_AD_TO_USER_RATIO = 0.05\n",
    "WEEKLY_AD_COUNT = round(SIMULATION_USER_COUNT * WEEKLY_AD_TO_USER_RATIO)\n"
   ]
  },
  {
   "cell_type": "code",
   "execution_count": 8,
   "id": "3d7a1191-201b-4ed6-96c2-ddc7966485be",
   "metadata": {},
   "outputs": [
    {
     "name": "stdout",
     "output_type": "stream",
     "text": [
      "1 0 4 0.4602065805213626\n",
      "2 1 4 0.486582859382134\n",
      "3 1 4 0.5049113011817962\n",
      "4 1 4 0.5049113011817962\n",
      "5 1 4 0.5376460976467836\n",
      "6 2 4 0.5376460976467836\n",
      "7 2 5 0.5376460976467836\n",
      "8 2 6 0.5376460976467836\n",
      "9 3 6 0.5376460976467836\n",
      "10 4 6 0.6214294782195965\n",
      "11 4 6 0.6214294782195965\n",
      "12 5 6 0.6214294782195965\n",
      "13 6 7 0.6214294782195965\n",
      "14 6 7 0.6214294782195965\n",
      "15 6 7 0.5376460976467836\n",
      "16 7 7 0.5376460976467836\n",
      "17 8 7 0.5376460976467836\n",
      "18 8 7 0.5376460976467836\n",
      "19 9 7 0.5376460976467836\n",
      "20 9 8 0.5551984008010239\n",
      "21 10 8 0.5551984008010239\n",
      "22 10 8 0.5551984008010239\n",
      "23 10 9 0.5551984008010239\n",
      "24 10 9 0.5664760560851883\n",
      "25 10 9 0.5733882906142266\n",
      "26 10 9 0.5733882906142266\n",
      "27 10 9 0.5733882906142266\n",
      "28 12 9 0.5733882906142266\n",
      "29 14 9 0.5733882906142266\n",
      "30 14 10 0.656420680523817\n"
     ]
    }
   ],
   "source": [
    "# try a few weeks\n",
    "\n",
    "SIM_WEEK_COUNT = 30\n",
    "\n",
    "ad_viewers = get_ad_viewers(SIMULATION_USER_COUNT)\n",
    "\n",
    "# These won't change from week to week\n",
    "weekly_ad_hours = [\n",
    "    round(i * HOURS_IN_WEEK / WEEKLY_AD_COUNT)\n",
    "    for i in range(WEEKLY_AD_COUNT)\n",
    "]\n",
    "\n",
    "for sim_week in range(1, SIM_WEEK_COUNT + 1):\n",
    "    weekly_ad_viewer_indices = np.random.randint(\n",
    "        low=0, high=SIMULATION_USER_COUNT, size=WEEKLY_AD_COUNT\n",
    "    )\n",
    "    weekly_ad_impacts = get_ad_impacts(WEEKLY_AD_COUNT)\n",
    "\n",
    "    for viewer_index, ad_impact, ad_hour in zip(\n",
    "        weekly_ad_viewer_indices, weekly_ad_impacts, weekly_ad_hours):\n",
    "        ad_viewers[viewer_index].view_ad(sim_week, ad_hour, ad_impact)\n",
    "\n",
    "    purchaser_count = len([v for v in ad_viewers if v.purchase_count > 0])\n",
    "\n",
    "    print(sim_week, purchaser_count, max([v.ad_view_count for v in ad_viewers]),\n",
    "         max([v.ad_impact for v in ad_viewers]))"
   ]
  },
  {
   "cell_type": "code",
   "execution_count": null,
   "id": "1bdbfcc1-5f59-4502-8c66-c217c89f9ca5",
   "metadata": {},
   "outputs": [],
   "source": []
  }
 ],
 "metadata": {
  "kernelspec": {
   "display_name": "Python 3 (ipykernel)",
   "language": "python",
   "name": "python3"
  },
  "language_info": {
   "codemirror_mode": {
    "name": "ipython",
    "version": 3
   },
   "file_extension": ".py",
   "mimetype": "text/x-python",
   "name": "python",
   "nbconvert_exporter": "python",
   "pygments_lexer": "ipython3",
   "version": "3.9.13"
  }
 },
 "nbformat": 4,
 "nbformat_minor": 5
}
