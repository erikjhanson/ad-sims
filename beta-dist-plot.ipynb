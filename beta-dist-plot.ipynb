{
 "cells": [
  {
   "cell_type": "markdown",
   "id": "0779b214-96ec-4010-913e-9e6f3221ae23",
   "metadata": {},
   "source": [
    "# beta-dist-plot\n",
    "\n",
    "Copyright © 2024 Erik Hanson\n",
    "\n",
    "Interactive plots of a beta distribution or a combination of 2 beta distributions \n",
    "given the mean and \"variance ratio\" paramters. This is a nice distribution to use\n",
    "to get bounded paramters for use in simulations because you can easily get the\n",
    "distribution parameters from the mean and variance. I use the \"variance ratio\" \n",
    "since it's limits do not change with the mean.\n",
    "\n",
    "If we need to do a lot of sampling from the distribution during each step of \n",
    "the simulations, it might be better to\n",
    "use the Kumaraswamy distribution since it's inverse CDF has a closed form.\n",
    "\n",
    "https://en.wikipedia.org/wiki/Kumaraswamy_distribution\n"
   ]
  },
  {
   "cell_type": "markdown",
   "id": "47efa25a-8c54-4b56-9644-7f2d36e7b6fe",
   "metadata": {},
   "source": [
    "## Credits\n",
    "\n",
    "To get started, I searched for \"python jupyter interactive plot\" and \n",
    "found and example on Stack Overflow that was helpful.\n",
    "\n",
    "https://stackoverflow.com/questions/44329068/jupyter-notebook-interactive-plot-with-widgets\n",
    "\n",
    "along with a similar link on Geeks for Geeks.\n",
    "\n",
    "https://www.geeksforgeeks.org/interactive-graphs-in-jupyter-notebook/\n",
    "\n",
    "Then I wanted to plot the pdf and cdf on the same graph, so I searched for \n",
    "\"scipy seccond y axis\" and found this link on Python Guides.\n",
    "\n",
    "https://pythonguides.com/matplotlib-two-y-axes/\n",
    "\n",
    "Then I searched for \"scipy multiply graphs\" to get examples with multiple \n",
    "subplots. Again, there was a very detailed link on Stack Overflow and a \n",
    "nice example on Geeks for Geeks (along with some distracting ads)\n",
    "\n",
    "https://stackoverflow.com/questions/31726643/how-to-plot-in-multiple-subplots\n",
    "\n",
    "https://www.geeksforgeeks.org/plot-multiple-plots-in-matplotlib/\n",
    "\n",
    "The Geeks for Geeks article mentioned the matplotlib.pyplot.subplot2grid \n",
    "method which I ended up using.\n",
    "\n",
    "With those examples, I started making my plots. I referred to the \n",
    "documentation to learn more about the `FloatSlider` options and might\n",
    "have done another search to learn about the `rcParamsDefault['figure.figsize']`\n",
    "option."
   ]
  },
  {
   "cell_type": "code",
   "execution_count": 1,
   "id": "6c71fc03-900f-42b4-9935-a213fe9c6bf0",
   "metadata": {},
   "outputs": [],
   "source": [
    "import matplotlib.pyplot as plt\n",
    "from scipy.stats import beta\n",
    "\n",
    "from ipywidgets import interact\n",
    "from ipywidgets import Layout\n",
    "from ipywidgets import FloatSlider\n",
    "from ipywidgets import FloatSlider\n",
    "from ipywidgets import FloatSlider\n",
    "\n",
    "import numpy as np\n"
   ]
  },
  {
   "cell_type": "code",
   "execution_count": 2,
   "id": "ba7be078-8348-4869-b85d-32719c1bae18",
   "metadata": {},
   "outputs": [],
   "source": [
    "def beta_params_from_mean_and_variance_ratio(mean, variance_ratio):\n",
    "    \"\"\"\n",
    "    mean and variance_ratio between 0 and 1.\n",
    "    variance = variance_ratio * mean * (1 - mean)\n",
    "    \n",
    "    Returns the alpha and beta paramters of the specified beta distribution.\n",
    "    \"\"\"\n",
    "    if variance_ratio in (0, 1) or mean in (0, 1):\n",
    "        return 1, 1  # Should we throw an exception if mean is 0 or 1?\n",
    "    nu = (1.0 - variance_ratio) / variance_ratio\n",
    "    a = nu * mean\n",
    "    b = nu * (1.0 - mean)\n",
    "    return a, b\n",
    "\n",
    "def plot_pdf_cdf_on_axis(x, y_pdf, y_cdf, ax):\n",
    "    \"\"\"\n",
    "    plot a distribution pdf and cdf on an axis\n",
    "    \"\"\"\n",
    "    color = 'tab:red'\n",
    "    ax.set_xlabel('X') \n",
    "    ax.set_ylabel('PDF', color = color) \n",
    "    ax.plot(x, y_pdf, color = color) \n",
    "    ax.tick_params(axis ='y', labelcolor = color) \n",
    "\n",
    "    ax2 = ax.twinx() \n",
    "    color = 'tab:green'\n",
    "    ax2.set_ylabel('cdf', color = color) \n",
    "    ax2.plot(x, y_cdf, color = color) \n",
    "    ax2.tick_params(axis ='y', labelcolor = color) \n",
    "\n",
    "def plot_beta_dist_with_cdf(mean=0.5, variance_ratio=0.1):\n",
    "    \"\"\"\n",
    "    Plot a single beta distribution pdf and cdf.\n",
    "    \"\"\"\n",
    "    a, b = beta_params_from_mean_and_variance_ratio(mean, variance_ratio)\n",
    "    x = np.linspace(0, 1, 100)\n",
    "    y_pdf = beta.pdf(x, a, b)\n",
    "    y_cdf = beta.cdf(x, a, b)\n",
    "    mode = (a - 1) / (a + b - 2)\n",
    "    \n",
    "    fig, ax = plt.subplots()\n",
    "    \n",
    "    plot_pdf_cdf_on_axis(x, y_pdf, y_cdf, ax)\n",
    "\n",
    "    label = f'a = {a:0.4f}, b = {b:0.4f}, mode = {mode:0.4f}'\n",
    "    fig.text(.5, -0.05, label, ha='center', va='bottom')\n",
    "\n",
    "    plt.title('Interactive beta plot')\n",
    "    plt.grid(True)\n",
    "    plt.show()\n",
    "\n",
    "def plot_beta_dists_with_cdf(mean_1=0.2, variance_ratio_1=0.1, weight_1=0.5, mean_2=0.8, variance_ratio_2=0.1):\n",
    "    \"\"\"\n",
    "    Plot a pair of beta distributions and their weighted sum.\n",
    "    \"\"\"    \n",
    "    # Constrained layout avoids issues with overlapping axes\n",
    "    plt.rcParams['figure.constrained_layout.use'] = True\n",
    "\n",
    "    ax1 = plt.subplot2grid((3, 2), (0, 0))\n",
    "    a, b = beta_params_from_mean_and_variance_ratio(mean_1, variance_ratio_1)\n",
    "    x = np.linspace(0, 1, 100)\n",
    "    y_pdf_1 = beta.pdf(x, a, b)\n",
    "    y_cdf_1 = beta.cdf(x, a, b)\n",
    "    plot_pdf_cdf_on_axis(x, y_pdf_1, y_cdf_1, ax1)\n",
    "    \n",
    "    ax2 = plt.subplot2grid((3, 2), (0, 1)) \n",
    "    a, b = beta_params_from_mean_and_variance_ratio(mean_2, variance_ratio_2)\n",
    "    x = np.linspace(0, 1, 100)\n",
    "    y_pdf_2 = beta.pdf(x, a, b)\n",
    "    y_cdf_2 = beta.cdf(x, a, b)\n",
    "    plot_pdf_cdf_on_axis(x, y_pdf_2, y_cdf_2, ax2)\n",
    "    \n",
    "    ax3 = plt.subplot2grid((3, 2), (1, 0), rowspan=2, colspan=2) \n",
    "    y_pdf = y_pdf_1 * weight_1 + y_pdf_2 * (1.0 - weight_1)\n",
    "    y_cdf = y_cdf_1 * weight_1 + y_cdf_2 * (1.0 - weight_1)\n",
    "    plot_pdf_cdf_on_axis(x, y_pdf, y_cdf, ax3)\n",
    "\n",
    "    # plt.gcf().text(.5, -0.05, f'a = {a:0.4f}, b = {b:0.4f}', ha='center', va='bottom')\n",
    "\n",
    "    plt.title('Interactive beta combination plot')\n",
    "    plt.grid(True)\n",
    "    plt.show()\n",
    "   "
   ]
  },
  {
   "cell_type": "code",
   "execution_count": 3,
   "id": "5dea34f9-f1da-4069-a410-6131dd61b680",
   "metadata": {},
   "outputs": [
    {
     "data": {
      "application/vnd.jupyter.widget-view+json": {
       "model_id": "7d183d885390407a898673bf6f68159e",
       "version_major": 2,
       "version_minor": 0
      },
      "text/plain": [
       "interactive(children=(FloatSlider(value=0.2, description='mean', layout=Layout(width='6.4in'), max=0.998, min=…"
      ]
     },
     "metadata": {},
     "output_type": "display_data"
    },
    {
     "data": {
      "text/plain": [
       "<function __main__.plot_beta_dist_with_cdf(mean=0.5, variance_ratio=0.1)>"
      ]
     },
     "execution_count": 3,
     "metadata": {},
     "output_type": "execute_result"
    }
   ],
   "source": [
    "# Interactive plot of a single beta dist.\n",
    "\n",
    "step_size = 0.002\n",
    "precision = len(str(step_size)) - 2\n",
    "format_string = f'.{precision}f'\n",
    "width_string = f\"{plt.rcParamsDefault['figure.figsize'][0]}in\"\n",
    "common_params = {\n",
    "    'min' : step_size,\n",
    "    'max' : 1-step_size,\n",
    "    'step' : step_size,\n",
    "    'readout_format' : format_string,\n",
    "    'layout' : Layout(width=width_string)\n",
    "}\n",
    "\n",
    "interact(\n",
    "    plot_beta_dist_with_cdf,\n",
    "    mean=FloatSlider(value=0.2, **common_params),\n",
    "    variance_ratio=FloatSlider(value = 0.1, **common_params)\n",
    ")"
   ]
  },
  {
   "cell_type": "code",
   "execution_count": 4,
   "id": "2f148aff-9763-48d9-9507-ddf3a6b650da",
   "metadata": {},
   "outputs": [
    {
     "data": {
      "application/vnd.jupyter.widget-view+json": {
       "model_id": "8799772d317341adb5f40c2ec4b6815d",
       "version_major": 2,
       "version_minor": 0
      },
      "text/plain": [
       "interactive(children=(FloatSlider(value=0.2, description='mean_1', layout=Layout(width='6.4in'), max=0.998, mi…"
      ]
     },
     "metadata": {},
     "output_type": "display_data"
    },
    {
     "data": {
      "text/plain": [
       "<function __main__.plot_beta_dists_with_cdf(mean_1=0.2, variance_ratio_1=0.1, weight_1=0.5, mean_2=0.8, variance_ratio_2=0.1)>"
      ]
     },
     "execution_count": 4,
     "metadata": {},
     "output_type": "execute_result"
    }
   ],
   "source": [
    "# put common params together\n",
    "\n",
    "step_size = 0.002\n",
    "precision = len(str(step_size)) - 2\n",
    "format_string = f'.{precision}f'\n",
    "width_string = f\"{plt.rcParamsDefault['figure.figsize'][0]}in\"\n",
    "common_params = {\n",
    "    'min' : step_size,\n",
    "    'max' : 1-step_size,\n",
    "    'step' : step_size,\n",
    "    'readout_format' : format_string,\n",
    "    'layout' : Layout(width=width_string)\n",
    "}\n",
    "\n",
    "interact(\n",
    "    plot_beta_dists_with_cdf,\n",
    "    mean_1=FloatSlider(value=0.2, **common_params),\n",
    "    variance_ratio_1=FloatSlider(value = 0.1, **common_params),\n",
    "    weight_1=FloatSlider(value = 0.7, **common_params),\n",
    "    mean_2=FloatSlider(value=0.8, **common_params),\n",
    "    variance_ratio_2=FloatSlider(value = 0.1, **common_params)\n",
    ")"
   ]
  },
  {
   "cell_type": "markdown",
   "id": "164ac7dd-9e6f-4bed-805d-2b499d5ff585",
   "metadata": {},
   "source": [
    "### Things to consider adding\n",
    "\n",
    "- scaling with min and max values.\n",
    "\n",
    "- try a parameterization with mean and mode. I think we get\n",
    "a = mean ( 1 - 2 mode) / (mean - mode)\n",
    "and\n",
    "b = a (1 - mean) / mean."
   ]
  },
  {
   "cell_type": "code",
   "execution_count": null,
   "id": "79de3956-e871-451d-8dd2-a9723aff5d7f",
   "metadata": {},
   "outputs": [],
   "source": []
  }
 ],
 "metadata": {
  "kernelspec": {
   "display_name": "Python 3 (ipykernel)",
   "language": "python",
   "name": "python3"
  },
  "language_info": {
   "codemirror_mode": {
    "name": "ipython",
    "version": 3
   },
   "file_extension": ".py",
   "mimetype": "text/x-python",
   "name": "python",
   "nbconvert_exporter": "python",
   "pygments_lexer": "ipython3",
   "version": "3.10.9"
  }
 },
 "nbformat": 4,
 "nbformat_minor": 5
}
